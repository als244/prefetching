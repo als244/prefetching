{
 "cells": [
  {
   "cell_type": "code",
   "execution_count": 22,
   "id": "cf79f3b0-ca06-4d9d-a7c4-bc53af4e11e5",
   "metadata": {},
   "outputs": [],
   "source": [
    "import sys\n",
    "import os\n",
    "import sqlite3\n",
    "import pandas as pd\n",
    "import numpy as np"
   ]
  },
  {
   "cell_type": "markdown",
   "id": "f0f8ee8d-5102-45c1-8664-4385cbbfc682",
   "metadata": {},
   "source": [
    "# Will do a grid search across problem size parameters for each of the the 6 chosen benchmarks...\n",
    "### For each run, will save down the sqlite table on my hard disk\n",
    "#### Will also create a copy of the deltas between GPU page faults to use as input to ML model"
   ]
  },
  {
   "cell_type": "code",
   "execution_count": 23,
   "id": "a122c0bb-df38-40e6-a56b-726a7a2c14e9",
   "metadata": {},
   "outputs": [],
   "source": [
    "MAX_BYTES_GPU = 25443893248"
   ]
  },
  {
   "cell_type": "markdown",
   "id": "5d732bf7-b876-4872-9ba9-e985ade19f36",
   "metadata": {},
   "source": [
    "# Profiled Using: \n",
    "- ```nsys profile --stats=true --cuda-memory-usage=true --cuda-um-gpu-page-faults=true --cuda-um-cpu-page-faults=true --output=<output_filename> ./<executable_name> [<executable_args>]*```"
   ]
  },
  {
   "cell_type": "code",
   "execution_count": 24,
   "id": "5b8c7692-8199-42b2-ad13-f0891c5424b9",
   "metadata": {},
   "outputs": [],
   "source": [
    "PROFILE_COMMAND = \"nsys profile --stats=true --cuda-memory-usage=true --cuda-um-gpu-page-faults=true --cuda-um-cpu-page-faults=true --force-overwrite=true --output=\""
   ]
  },
  {
   "cell_type": "code",
   "execution_count": 25,
   "id": "751ebbb0-739e-4244-b088-70bce68c0897",
   "metadata": {},
   "outputs": [],
   "source": [
    "OUTPUT_DIR = \"/mnt/storage/data/research/gpu_traces/\""
   ]
  },
  {
   "cell_type": "code",
   "execution_count": 26,
   "id": "b9de79ee-5c87-4c49-8a91-40d769ac092f",
   "metadata": {},
   "outputs": [],
   "source": [
    "ADDRESS_SEQ_DIR = \"/home/shein/Documents/research/prefetching/data/gpu_traces/\""
   ]
  },
  {
   "cell_type": "code",
   "execution_count": 27,
   "id": "d25f70a7-8b0f-4f5a-9002-37db55f7096a",
   "metadata": {},
   "outputs": [],
   "source": [
    "def generate_address_sequence(benchmark, filename):\n",
    "    db_filename = OUTPUT_DIR + benchmark + filename + \".sqlite\"\n",
    "    con = sqlite3.connect(db_filename)\n",
    "    gpu_page_fault_df = pd.read_sql_query(\"SELECT address FROM CUDA_UM_GPU_PAGE_FAULT_EVENTS ORDER BY start\", con)\n",
    "    gpu_page_fault_df[\"address\"] = gpu_page_fault_df[\"address\"].astype(np.uint64)\n",
    "    output_address_seq_filename = ADDRESS_SEQ_DIR + benchmark + filename + \".address_buffer\"\n",
    "    f = open(output_address_seq_filename, 'wb')\n",
    "    for i in range(len(gpu_page_fault_df[\"address\"])):\n",
    "        val = gpu_page_fault_df[\"address\"][i]\n",
    "        f.write(val.tobytes())\n",
    "    f.close()"
   ]
  },
  {
   "cell_type": "code",
   "execution_count": 28,
   "id": "97c008e9-cd0b-4983-9a5d-a52281462c0f",
   "metadata": {},
   "outputs": [],
   "source": [
    "os.chdir(\"/home/shein/Documents/research/prefetching/data/chosen_benchmarks/executables\")"
   ]
  },
  {
   "cell_type": "markdown",
   "id": "b7bb07a9-f33a-4c5d-93be-b9d7d9d0197f",
   "metadata": {},
   "source": [
    "# *Streaming*"
   ]
  },
  {
   "cell_type": "markdown",
   "id": "7507ea17-e82d-4ca6-9584-933910afc8d6",
   "metadata": {},
   "source": [
    "## 2DConv\n",
    "\n",
    "#### GPU Memory Usage: $8N_IN_J$ "
   ]
  },
  {
   "cell_type": "code",
   "execution_count": 29,
   "id": "d41dc63c-b8ea-40bc-af74-7490eb182507",
   "metadata": {},
   "outputs": [],
   "source": [
    "# Params\n",
    "BENCHMARK = \"2DCONV/\"\n",
    "EXECUTABLE_NAME = \"./2DConvolution.exe\"\n",
    "NI = [100, 500, 1000, 2500, 5000, 10000, 25000, 50000, 56000]\n",
    "NJ = [100, 500, 1000, 2500, 5000, 10000, 25000, 50000, 56000]"
   ]
  },
  {
   "cell_type": "code",
   "execution_count": null,
   "id": "3231465e-0654-4948-9f10-bff4e69b6b2a",
   "metadata": {},
   "outputs": [],
   "source": [
    "for i in NI:\n",
    "    for j in NJ:\n",
    "        args = str(i) + \" \" + str(j)\n",
    "        filename = str(i) + \"_\" + str(j)\n",
    "        command = PROFILE_COMMAND + OUTPUT_DIR + BENCHMARK + filename + \" \" + EXECUTABLE_NAME + \" \" + args\n",
    "        os.system(command)\n",
    "        generate_address_sequence(BENCHMARK, filename)"
   ]
  },
  {
   "cell_type": "markdown",
   "id": "c38aefd8-dcac-4756-86d0-80f6f222500b",
   "metadata": {},
   "source": [
    "## 3DConv\n",
    "\n",
    "#### GPU Memory Usage: $8N_IN_JN_K$ "
   ]
  },
  {
   "cell_type": "code",
   "execution_count": 11,
   "id": "59476833-b33e-43a2-ba4d-0c2e61b1b43b",
   "metadata": {},
   "outputs": [],
   "source": [
    "# Params\n",
    "NI = 0\n",
    "NJ = 0\n",
    "NK = 0"
   ]
  },
  {
   "cell_type": "code",
   "execution_count": null,
   "id": "96b3a295-a65d-4225-a1b0-a334814fad3b",
   "metadata": {},
   "outputs": [],
   "source": []
  },
  {
   "cell_type": "markdown",
   "id": "38f7c513-9de8-431a-99fa-04012a6e17c1",
   "metadata": {},
   "source": [
    "# *Non-Streaming*"
   ]
  },
  {
   "cell_type": "markdown",
   "id": "25c24116-8da8-461e-8757-d7700f46776e",
   "metadata": {},
   "source": [
    "## ATAX\n",
    "\n",
    "#### GPU Memory Usage: $4N_XN_Y + 8N_Y + 4N_X$ "
   ]
  },
  {
   "cell_type": "code",
   "execution_count": 10,
   "id": "c3f8a498-07df-42eb-8141-4fdfe1da8a92",
   "metadata": {},
   "outputs": [],
   "source": [
    "# Params\n",
    "NX = 0\n",
    "NY = 0"
   ]
  },
  {
   "cell_type": "code",
   "execution_count": null,
   "id": "962b713e-aa26-4cf5-9bf4-6758b5dbfe1c",
   "metadata": {},
   "outputs": [],
   "source": []
  },
  {
   "cell_type": "markdown",
   "id": "9ca4ca27-1b4b-47b7-b7dc-98c13ee844ba",
   "metadata": {},
   "source": [
    "## MVT\n",
    "\n",
    "#### GPU Memory Usage: $4N(N+4)$ "
   ]
  },
  {
   "cell_type": "code",
   "execution_count": 13,
   "id": "d1e3fa08-7fee-448a-8f6c-c4e77eef018b",
   "metadata": {},
   "outputs": [],
   "source": [
    "# Params\n",
    "N = 0"
   ]
  },
  {
   "cell_type": "code",
   "execution_count": null,
   "id": "bcb45375-b59b-4e74-be81-97c40c3ffcc3",
   "metadata": {},
   "outputs": [],
   "source": []
  },
  {
   "cell_type": "markdown",
   "id": "2780dd32-a02c-44cd-a429-67b59ed3ddc8",
   "metadata": {},
   "source": [
    "## CORR\n",
    "\n",
    "#### GPU Memory Usage: $8(M+1)(N+2)$ "
   ]
  },
  {
   "cell_type": "code",
   "execution_count": 9,
   "id": "d135461f-81af-42b2-8862-2434c7847515",
   "metadata": {},
   "outputs": [],
   "source": [
    "# Params\n",
    "M = 0\n",
    "N = 0"
   ]
  },
  {
   "cell_type": "code",
   "execution_count": null,
   "id": "5afb3ba8-8d49-43ea-a674-7d5453c2571d",
   "metadata": {},
   "outputs": [],
   "source": []
  },
  {
   "cell_type": "markdown",
   "id": "579660d7-b9b3-475f-8eaa-b523ec6fc29a",
   "metadata": {},
   "source": [
    "## COV\n",
    "\n",
    "#### GPU Memory Usage: $8(M+1)(N+1) + 4(M+1)$ "
   ]
  },
  {
   "cell_type": "code",
   "execution_count": null,
   "id": "77af2e80-ab66-471b-b413-7b2f0e58fce0",
   "metadata": {},
   "outputs": [],
   "source": [
    "# Params\n",
    "M = 0\n",
    "N = 0"
   ]
  },
  {
   "cell_type": "code",
   "execution_count": null,
   "id": "d0776fc2-f156-4b10-b319-220ca4e60b13",
   "metadata": {},
   "outputs": [],
   "source": []
  }
 ],
 "metadata": {
  "kernelspec": {
   "display_name": "Python 3 (ipykernel)",
   "language": "python",
   "name": "python3"
  },
  "language_info": {
   "codemirror_mode": {
    "name": "ipython",
    "version": 3
   },
   "file_extension": ".py",
   "mimetype": "text/x-python",
   "name": "python",
   "nbconvert_exporter": "python",
   "pygments_lexer": "ipython3",
   "version": "3.10.4"
  }
 },
 "nbformat": 4,
 "nbformat_minor": 5
}
