{
 "cells": [
  {
   "cell_type": "code",
   "execution_count": 22,
   "id": "cf79f3b0-ca06-4d9d-a7c4-bc53af4e11e5",
   "metadata": {},
   "outputs": [],
   "source": [
    "import sys\n",
    "import os\n",
    "import sqlite3\n",
    "import pandas as pd\n",
    "import numpy as np"
   ]
  },
  {
   "cell_type": "markdown",
   "id": "f0f8ee8d-5102-45c1-8664-4385cbbfc682",
   "metadata": {},
   "source": [
    "# Will do a grid search across problem size parameters for each of the the 6 chosen benchmarks...\n",
    "### For each run, will save down the sqlite table on my hard disk\n",
    "#### Will also create a copy of the deltas between GPU page faults to use as input to ML model"
   ]
  },
  {
   "cell_type": "code",
   "execution_count": 23,
   "id": "a122c0bb-df38-40e6-a56b-726a7a2c14e9",
   "metadata": {},
   "outputs": [],
   "source": [
    "MAX_BYTES_GPU = 25443893248"
   ]
  },
  {
   "cell_type": "markdown",
   "id": "5d732bf7-b876-4872-9ba9-e985ade19f36",
   "metadata": {},
   "source": [
    "# Profiled Using: \n",
    "- ```nsys profile --stats=true --cuda-memory-usage=true --cuda-um-gpu-page-faults=true --cuda-um-cpu-page-faults=true --output=<output_filename> ./<executable_name> [<executable_args>]*```"
   ]
  },
  {
   "cell_type": "code",
   "execution_count": 24,
   "id": "5b8c7692-8199-42b2-ad13-f0891c5424b9",
   "metadata": {},
   "outputs": [],
   "source": [
    "PROFILE_COMMAND = \"nsys profile --stats=true --cuda-memory-usage=true --cuda-um-gpu-page-faults=true --cuda-um-cpu-page-faults=true --force-overwrite=true --output=\""
   ]
  },
  {
   "cell_type": "code",
   "execution_count": 25,
   "id": "751ebbb0-739e-4244-b088-70bce68c0897",
   "metadata": {},
   "outputs": [],
   "source": [
    "OUTPUT_DIR = \"/mnt/storage/data/research/gpu_traces/\""
   ]
  },
  {
   "cell_type": "code",
   "execution_count": 26,
   "id": "b9de79ee-5c87-4c49-8a91-40d769ac092f",
   "metadata": {},
   "outputs": [],
   "source": [
    "ADDRESS_SEQ_DIR = \"/home/shein/Documents/research/prefetching/data/gpu_traces/\""
   ]
  },
  {
   "cell_type": "code",
   "execution_count": 52,
   "id": "d25f70a7-8b0f-4f5a-9002-37db55f7096a",
   "metadata": {},
   "outputs": [],
   "source": [
    "def generate_address_sequence(benchmark, filename):\n",
    "    db_filename = OUTPUT_DIR + benchmark + filename + \".sqlite\"\n",
    "    con = sqlite3.connect(db_filename)\n",
    "    gpu_page_fault_df = pd.read_sql_query(\"SELECT address FROM CUDA_UM_GPU_PAGE_FAULT_EVENTS ORDER BY start\", con)\n",
    "    gpu_page_fault_df[\"address\"] = gpu_page_fault_df[\"address\"].astype(np.uint64)\n",
    "    output_address_seq_filename = ADDRESS_SEQ_DIR + benchmark + filename + \".address_buffer\"\n",
    "    f = open(output_address_seq_filename, 'wb')\n",
    "    for i in range(len(gpu_page_fault_df[\"address\"])):\n",
    "        val = gpu_page_fault_df[\"address\"][i]\n",
    "        f.write(val.tobytes())\n",
    "    f.close()"
   ]
  },
  {
   "cell_type": "code",
   "execution_count": 53,
   "id": "97c008e9-cd0b-4983-9a5d-a52281462c0f",
   "metadata": {},
   "outputs": [],
   "source": [
    "os.chdir(\"/home/shein/Documents/research/prefetching/data/chosen_benchmarks/executables\")"
   ]
  },
  {
   "cell_type": "markdown",
   "id": "b7bb07a9-f33a-4c5d-93be-b9d7d9d0197f",
   "metadata": {},
   "source": [
    "# *Streaming*"
   ]
  },
  {
   "cell_type": "markdown",
   "id": "7507ea17-e82d-4ca6-9584-933910afc8d6",
   "metadata": {},
   "source": [
    "## 2DConv (RAN)\n",
    "\n",
    "#### GPU Memory Usage: $8N_IN_J$ "
   ]
  },
  {
   "cell_type": "code",
   "execution_count": 54,
   "id": "d41dc63c-b8ea-40bc-af74-7490eb182507",
   "metadata": {},
   "outputs": [],
   "source": [
    "# Params\n",
    "BENCHMARK = \"2DCONV/\"\n",
    "EXECUTABLE_NAME = \"./2DConvolution.exe\"\n",
    "NI = [100, 500, 1000, 2500, 5000, 10000, 25000, 50000, 56000]\n",
    "NJ = [100, 500, 1000, 2500, 5000, 10000, 25000, 50000, 56000]"
   ]
  },
  {
   "cell_type": "code",
   "execution_count": null,
   "id": "3231465e-0654-4948-9f10-bff4e69b6b2a",
   "metadata": {},
   "outputs": [],
   "source": [
    "for i in NI:\n",
    "    for j in NJ:\n",
    "        filename = str(i) + \"_\" + str(j)\n",
    "        command = PROFILE_COMMAND + OUTPUT_DIR + BENCHMARK + filename + \" \" + EXECUTABLE_NAME + \" \" + args\n",
    "        os.system(command)\n",
    "        generate_address_sequence(BENCHMARK, filename)"
   ]
  },
  {
   "cell_type": "markdown",
   "id": "c38aefd8-dcac-4756-86d0-80f6f222500b",
   "metadata": {},
   "source": [
    "## 3DConv\n",
    "\n",
    "#### GPU Memory Usage: $8N_IN_JN_K$ "
   ]
  },
  {
   "cell_type": "code",
   "execution_count": 11,
   "id": "59476833-b33e-43a2-ba4d-0c2e61b1b43b",
   "metadata": {},
   "outputs": [],
   "source": [
    "# Params\n",
    "NI = 0\n",
    "NJ = 0\n",
    "NK = 0"
   ]
  },
  {
   "cell_type": "code",
   "execution_count": null,
   "id": "96b3a295-a65d-4225-a1b0-a334814fad3b",
   "metadata": {},
   "outputs": [],
   "source": []
  },
  {
   "cell_type": "markdown",
   "id": "38f7c513-9de8-431a-99fa-04012a6e17c1",
   "metadata": {},
   "source": [
    "# *Non-Streaming*"
   ]
  },
  {
   "cell_type": "markdown",
   "id": "25c24116-8da8-461e-8757-d7700f46776e",
   "metadata": {},
   "source": [
    "## ATAX\n",
    "\n",
    "#### GPU Memory Usage: $4N_XN_Y + 8N_Y + 4N_X$ "
   ]
  },
  {
   "cell_type": "code",
   "execution_count": 10,
   "id": "c3f8a498-07df-42eb-8141-4fdfe1da8a92",
   "metadata": {},
   "outputs": [],
   "source": [
    "# Params\n",
    "NX = 0\n",
    "NY = 0"
   ]
  },
  {
   "cell_type": "code",
   "execution_count": null,
   "id": "962b713e-aa26-4cf5-9bf4-6758b5dbfe1c",
   "metadata": {},
   "outputs": [],
   "source": []
  },
  {
   "cell_type": "markdown",
   "id": "9ca4ca27-1b4b-47b7-b7dc-98c13ee844ba",
   "metadata": {},
   "source": [
    "## MVT (RAN)\n",
    "\n",
    "#### GPU Memory Usage: $4N(N+4)$ "
   ]
  },
  {
   "cell_type": "code",
   "execution_count": 48,
   "id": "d1e3fa08-7fee-448a-8f6c-c4e77eef018b",
   "metadata": {},
   "outputs": [],
   "source": [
    "# Params\n",
    "BENCHMARK = \"MVT/\"\n",
    "EXECUTABLE_NAME = \"mvt.exe\"\n",
    "N = [65000]"
   ]
  },
  {
   "cell_type": "code",
   "execution_count": 49,
   "id": "bcb45375-b59b-4e74-be81-97c40c3ffcc3",
   "metadata": {},
   "outputs": [
    {
     "name": "stderr",
     "output_type": "stream",
     "text": [
      "Warning: LBR backtrace method is not supported on this platform. DWARF backtrace method will be used.\n"
     ]
    },
    {
     "name": "stdout",
     "output_type": "stream",
     "text": [
      "setting device 0 with name NVIDIA GeForce RTX 3090\n",
      "GPU Runtime: 42.838028s\n",
      "CPU Runtime: 18.399707s\n",
      "Non-Matching CPU-GPU Outputs Beyond Error Threshold of 0.05 Percent: 0\n",
      "Generating '/tmp/nsys-report-bbbb.qdstrm'\n",
      "[ 1/11] [========================100%] 65000.nsys-rep\n",
      "[ 2/11] [========================100%] 65000.sqlite\n"
     ]
    },
    {
     "name": "stderr",
     "output_type": "stream",
     "text": [
      "SKIPPED: /mnt/storage/data/research/gpu_traces/MVT/65000.sqlite does not contain NV Tools Extension (NVTX) data.\n"
     ]
    },
    {
     "name": "stdout",
     "output_type": "stream",
     "text": [
      "[ 3/11] Executing 'nvtxsum' stats report\n",
      "[ 4/11] Executing 'osrtsum' stats report\n",
      "\n",
      "Operating System Runtime API Statistics:\n",
      "\n",
      " Time (%)  Total Time (ns)  Num Calls      Avg (ns)          Med (ns)         Min (ns)        Max (ns)       StdDev (ns)             Name         \n",
      " --------  ---------------  ---------  ----------------  ----------------  --------------  --------------  ---------------  ----------------------\n",
      "     45.2  191,256,697,457     10,807      17,697,482.9      10,056,165.0           1,002     101,028,282     27,485,454.3  poll                  \n",
      "     25.5  107,718,903,780         88   1,224,078,452.0     953,764,538.0      70,610,100  20,788,931,325  2,121,323,996.8  sem_wait              \n",
      "     17.3   73,012,140,915        146     500,083,157.0     500,073,379.0     500,058,001     500,519,404         60,716.7  pthread_cond_timedwait\n",
      "      6.8   28,984,046,463          1  28,984,046,463.0  28,984,046,463.0  28,984,046,463  28,984,046,463              0.0  pthread_cond_wait     \n",
      "      4.9   20,757,421,167     10,058       2,063,772.2       2,055,346.0          11,742      20,508,331        266,022.1  sem_timedwait         \n",
      "      0.3    1,434,720,171         18      79,706,676.2           6,101.5           1,603   1,434,409,637    338,089,291.1  mmap                  \n",
      "      0.0       48,006,798        492          97,574.8           9,027.0           1,012      16,202,424        973,333.2  ioctl                 \n",
      "      0.0          942,444         27          34,905.3           4,028.0           2,575         472,053         93,388.3  mmap64                \n",
      "      0.0          277,370         44           6,303.9           6,262.0           2,515          12,494          1,686.6  open64                \n",
      "      0.0          222,465          5          44,493.0          41,798.0          36,568          56,716          8,781.7  pthread_create        \n",
      "      0.0          104,206         41           2,541.6           2,054.0           1,052           7,725          1,494.5  fopen                 \n",
      "      0.0           60,664          7           8,666.3           2,575.0           1,783          40,626         14,291.9  munmap                \n",
      "      0.0           56,717          6           9,452.8           5,400.0           2,504          33,794         12,047.4  fgets                 \n",
      "      0.0           21,731          5           4,346.2           3,577.0           2,034           7,023          2,401.7  open                  \n",
      "      0.0           18,065         10           1,806.5           1,743.5           1,223           3,346            642.9  write                 \n",
      "      0.0           15,819          7           2,259.9           1,733.0           1,442           5,450          1,428.8  fread                 \n",
      "      0.0           11,842          2           5,921.0           5,921.0           3,537           8,305          3,371.5  socket                \n",
      "      0.0            9,157          1           9,157.0           9,157.0           9,157           9,157              0.0  fflush                \n",
      "      0.0            8,377          6           1,396.2           1,212.5           1,072           2,385            494.6  fclose                \n",
      "      0.0            7,665          4           1,916.3           1,788.5           1,353           2,735            583.3  read                  \n",
      "      0.0            7,173          1           7,173.0           7,173.0           7,173           7,173              0.0  pipe2                 \n",
      "      0.0            6,472          1           6,472.0           6,472.0           6,472           6,472              0.0  connect               \n",
      "      0.0            2,334          1           2,334.0           2,334.0           2,334           2,334              0.0  fcntl                 \n",
      "      0.0            2,214          1           2,214.0           2,214.0           2,214           2,214              0.0  fopen64               \n",
      "      0.0            1,994          1           1,994.0           1,994.0           1,994           1,994              0.0  pthread_cond_signal   \n",
      "      0.0            1,273          1           1,273.0           1,273.0           1,273           1,273              0.0  bind                  \n",
      "\n",
      "[ 5/11] Executing 'cudaapisum' stats report\n",
      "\n",
      "CUDA API Statistics:\n",
      "\n",
      " Time (%)  Total Time (ns)  Num Calls      Avg (ns)          Med (ns)         Min (ns)        Max (ns)      StdDev (ns)            Name         \n",
      " --------  ---------------  ---------  ----------------  ----------------  --------------  --------------  -------------  ----------------------\n",
      "     96.5   42,821,751,045          1  42,821,751,045.0  42,821,751,045.0  42,821,751,045  42,821,751,045            0.0  cudaDeviceSynchronize \n",
      "      3.2    1,434,809,705          5     286,961,941.0          42,440.0           6,191   1,434,504,284  641,495,679.4  cudaFree              \n",
      "      0.2       91,039,966          5      18,207,993.2           4,098.0           2,836      91,010,840   40,698,029.2  cudaMallocManaged     \n",
      "      0.0       16,263,849          2       8,131,924.5       8,131,924.5           8,786      16,255,063   11,487,852.6  cudaLaunchKernel      \n",
      "      0.0            1,292          1           1,292.0           1,292.0           1,292           1,292            0.0  cuModuleGetLoadingMode\n",
      "\n",
      "[ 6/11] Executing 'gpukernsum' stats report\n",
      "\n",
      "CUDA Kernel Statistics:\n",
      "\n",
      " Time (%)  Total Time (ns)  Instances      Avg (ns)          Med (ns)         Min (ns)        Max (ns)     StdDev (ns)                          Name                        \n",
      " --------  ---------------  ---------  ----------------  ----------------  --------------  --------------  -----------  ----------------------------------------------------\n",
      "     99.9   42,793,555,483          1  42,793,555,483.0  42,793,555,483.0  42,793,555,483  42,793,555,483          0.0  mvt_kernel1(float *, float *, float *, unsigned int)\n",
      "      0.1       28,143,652          1      28,143,652.0      28,143,652.0      28,143,652      28,143,652          0.0  mvt_kernel2(float *, float *, float *, unsigned int)\n",
      "\n",
      "[ 7/11] Executing 'gpumemtimesum' stats report\n",
      "\n",
      "CUDA Memory Operation Statistics (by time):\n",
      "\n",
      " Time (%)  Total Time (ns)    Count    Avg (ns)  Med (ns)  Min (ns)  Max (ns)  StdDev (ns)              Operation            \n",
      " --------  ---------------  ---------  --------  --------  --------  --------  -----------  ---------------------------------\n",
      "    100.0    7,101,820,380  4,126,149   1,721.2   1,664.0     1,216     9,760        155.6  [CUDA Unified Memory memcpy HtoD]\n",
      "      0.0          471,551        127   3,713.0   3,744.0     3,296     4,544        256.7  [CUDA Unified Memory memcpy DtoH]\n",
      "\n",
      "[ 8/11] Executing 'gpumemsizesum' stats report\n",
      "\n",
      "CUDA Memory Operation Statistics (by size):\n",
      "\n",
      " Total (MB)    Count    Avg (MB)  Med (MB)  Min (MB)  Max (MB)  StdDev (MB)              Operation            \n",
      " ----------  ---------  --------  --------  --------  --------  -----------  ---------------------------------\n",
      " 16,901.042  4,126,149     0.004     0.004     0.004     0.127        0.000  [CUDA Unified Memory memcpy HtoD]\n",
      "      0.520        127     0.004     0.004     0.004     0.004        0.000  [CUDA Unified Memory memcpy DtoH]\n",
      "\n",
      "[ 9/11] Executing 'unifiedmemory' stats report\n",
      "\n",
      "Unified Memory Analysis\n",
      "\n",
      " Virtual Address  HtoD Migration size (MB)  DtoH Migration size (MB)  CPU Page Faults   GPU Page Faults  Migration Throughput (MBps)\n",
      " ---------------  ------------------------  ------------------------  ---------------  ----------------  ---------------------------\n",
      " 0x7F5FF5640000                      0.127                     0.004                2                 3                   11,346.248\n",
      " 0x7F5FF565F000                      0.070                     0.004                2                20                    8,439.497\n",
      " 0x7F5FF5670000                      0.057                     0.004                2                28                    8,033.464\n",
      " 0x7F5FF560F000                      0.053                     0.004                2                                      7,285.441\n",
      " 0x7F5FF5606000                      0.029                     0.004                2                                      5,070.062\n",
      " 0x7F5FF561C000                      0.016                     0.004                2                                      3,595.489\n",
      " 0x7F5C3BFF6000                      0.004                                          1                 2                    3,368.419\n",
      " 0x7F5C77071000                      0.004                                          1                 2                    3,368.419\n",
      " 0x7F5C79FEB000                      0.004                                          1                 1                    3,368.419\n",
      " 0x7F5C90321000                      0.004                                          1                 2                    3,368.419\n",
      "\n",
      "[10/11] Executing 'unifiedmemorytotals' stats report\n",
      "\n",
      "Unified Memory Totals\n",
      "\n",
      " Total HtoD Migration Size (MB)  Total DtoH Migration Size (MB)  Total CPU Page Faults  Total GPU PageFaults  Minimum Virtual Address  Maximum Virtual Address\n",
      " ------------------------------  ------------------------------  ---------------------  --------------------  -----------------------  -----------------------\n",
      "                     16,901.042                           0.520              4,126,358               651,567  0x7F5C06000000           0x7F5FF56FD000         \n",
      "\n",
      "[11/11] Executing 'umcpupagefaults' stats report\n",
      "\n",
      "Unified Memory CPU Page Faults\n",
      "\n",
      " CPU Page Faults                                        CPU Instruction Address                                       \n",
      " ---------------  ----------------------------------------------------------------------------------------------------\n",
      "       4,126,231  init_array(float*, float*, float*, float*, float*, float*, float*, float*, float*, float*, unsigned…\n",
      "             127  compareResults(float*, float*, float*, float*, unsigned int)                                        \n",
      "\n",
      "Generated:\n",
      "    /mnt/storage/data/research/gpu_traces/MVT/65000.nsys-rep\n",
      "    /mnt/storage/data/research/gpu_traces/MVT/65000.sqlite\n"
     ]
    }
   ],
   "source": [
    "for n in N:\n",
    "    args = str(n)\n",
    "    filename = str(n)\n",
    "    command = PROFILE_COMMAND + OUTPUT_DIR + BENCHMARK + filename + \" \" + EXECUTABLE_NAME + \" \" + args\n",
    "    os.system(command)\n",
    "    generate_address_sequence(BENCHMARK, filename)"
   ]
  },
  {
   "cell_type": "markdown",
   "id": "2780dd32-a02c-44cd-a429-67b59ed3ddc8",
   "metadata": {},
   "source": [
    "## CORR\n",
    "\n",
    "#### GPU Memory Usage: $8(M+1)(N+2)$ "
   ]
  },
  {
   "cell_type": "code",
   "execution_count": 9,
   "id": "d135461f-81af-42b2-8862-2434c7847515",
   "metadata": {},
   "outputs": [],
   "source": [
    "# Params\n",
    "M = 0\n",
    "N = 0"
   ]
  },
  {
   "cell_type": "code",
   "execution_count": null,
   "id": "5afb3ba8-8d49-43ea-a674-7d5453c2571d",
   "metadata": {},
   "outputs": [],
   "source": []
  },
  {
   "cell_type": "markdown",
   "id": "579660d7-b9b3-475f-8eaa-b523ec6fc29a",
   "metadata": {},
   "source": [
    "## COV\n",
    "\n",
    "#### GPU Memory Usage: $8(M+1)(N+1) + 4(M+1)$ "
   ]
  },
  {
   "cell_type": "code",
   "execution_count": null,
   "id": "77af2e80-ab66-471b-b413-7b2f0e58fce0",
   "metadata": {},
   "outputs": [],
   "source": [
    "# Params\n",
    "M = 0\n",
    "N = 0"
   ]
  },
  {
   "cell_type": "code",
   "execution_count": null,
   "id": "d0776fc2-f156-4b10-b319-220ca4e60b13",
   "metadata": {},
   "outputs": [],
   "source": []
  }
 ],
 "metadata": {
  "kernelspec": {
   "display_name": "Python 3 (ipykernel)",
   "language": "python",
   "name": "python3"
  },
  "language_info": {
   "codemirror_mode": {
    "name": "ipython",
    "version": 3
   },
   "file_extension": ".py",
   "mimetype": "text/x-python",
   "name": "python",
   "nbconvert_exporter": "python",
   "pygments_lexer": "ipython3",
   "version": "3.10.4"
  }
 },
 "nbformat": 4,
 "nbformat_minor": 5
}
