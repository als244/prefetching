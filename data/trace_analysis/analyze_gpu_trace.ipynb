{
 "cells": [
  {
   "cell_type": "code",
   "execution_count": 1,
   "id": "531cdb65-777b-439c-905d-452c4a85f657",
   "metadata": {},
   "outputs": [],
   "source": [
    "import sqlite3\n",
    "import pandas as pd\n",
    "import numpy as np\n",
    "import plotly.graph_objects as go"
   ]
  },
  {
   "cell_type": "code",
   "execution_count": 38,
   "id": "73ea680c-ba39-47e4-b37c-1849bf833a54",
   "metadata": {},
   "outputs": [],
   "source": [
    "TRACE_PATH = \"/mnt/storage/data/research/gpu_traces/\""
   ]
  },
  {
   "cell_type": "code",
   "execution_count": 44,
   "id": "4a05ae61-a9b2-4997-9075-99f035703ec0",
   "metadata": {},
   "outputs": [],
   "source": [
    "OUTPUT_MAIN_FOLDER = \"../gpu_traces/\""
   ]
  },
  {
   "cell_type": "markdown",
   "id": "10aa163e-727a-492c-b3c2-392f0f236db4",
   "metadata": {},
   "source": [
    "## Get DB Containing Trace Details"
   ]
  },
  {
   "cell_type": "code",
   "execution_count": 39,
   "id": "459e48c5-f497-45db-bdd0-e5ef588bdefa",
   "metadata": {},
   "outputs": [],
   "source": [
    "BENCHMARK = \"2DCONV\"\n",
    "BENCHMARK_PATH = TRACE_PATH + BENCHMARK + \"/\""
   ]
  },
  {
   "cell_type": "code",
   "execution_count": 45,
   "id": "9897cf29-e768-49c2-b47e-4addf4040512",
   "metadata": {},
   "outputs": [],
   "source": [
    "OUTPUT_DIR = OUTPUT_FOLDER + BENCHMARK + \"/\""
   ]
  },
  {
   "cell_type": "code",
   "execution_count": 40,
   "id": "530adeca-558c-4d97-a303-6f90b73022c3",
   "metadata": {},
   "outputs": [],
   "source": [
    "chosen_size = \"5000_2500\""
   ]
  },
  {
   "cell_type": "code",
   "execution_count": 5,
   "id": "b09931d3-4140-4674-a966-f19d981a09c6",
   "metadata": {},
   "outputs": [],
   "source": [
    "db_filename = BENCHMARK_PATH + str(chosen_size) + \".sqlite\""
   ]
  },
  {
   "cell_type": "markdown",
   "id": "6230890f-a2c7-4369-a83a-77fadba903d8",
   "metadata": {},
   "source": [
    "# Profiled Using: \n",
    "- ```nsys profile --stats=true --cuda-memory-usage=true --cuda-um-gpu-page-faults=true --cuda-um-cpu-page-faults=true --output=<output_filename> ./<executable_name>```"
   ]
  },
  {
   "cell_type": "markdown",
   "id": "5f0f3d59-7ff2-448d-979b-b576822e3ab8",
   "metadata": {},
   "source": [
    "## Memory Transfer and Page Fault Tables\n",
    "- CUPTI_ACTIVITY_KIND_MEMCPY\n",
    "- CUDA_UM_GPU_PAGE_FAULT_EVENTS\n",
    "- CUDA_GPU_MEMORY_USAGE_EVENTS\n",
    "- CUDA_UM_CPU_PAGE_FAULT_EVENTS"
   ]
  },
  {
   "cell_type": "markdown",
   "id": "44e161bb-c13f-4f04-82a9-c4cfc51fdd7a",
   "metadata": {},
   "source": [
    "### Other Possibly Relevant Tables\n",
    "- ANALYSIS_DETAILS\n",
    "- COMPOSITE_EVENTS\n",
    "- CUPTI_ACTIVITY_KIND_KERNEL\n",
    "- CUPTI_ACTIVITY_KIND_RUNTIME\n",
    "- CUPTI_ACTIVITY_KIND_SYNCHRONIZATION\n",
    "- OSRT_API\n",
    "- OSRT_CALLCHAINS\n",
    "- PROFILER_OVERHEAD\n",
    "- SAMPLING_CALLCHAINS\n",
    "- SCHED_EVENTS\n",
    "- TARGET_INFO_CUDA_STREAM\n",
    "- TARGET_INFO_GPU\n",
    "- TARGET_INFO_SYSTEM_ENV"
   ]
  },
  {
   "cell_type": "code",
   "execution_count": 16,
   "id": "ea27f2d8-a680-423f-ab2f-dc4853b8360f",
   "metadata": {},
   "outputs": [],
   "source": [
    "con = sqlite3.connect(db_filename)"
   ]
  },
  {
   "cell_type": "code",
   "execution_count": 17,
   "id": "85bbd733-fcc5-442e-9912-ce7b0cb4399f",
   "metadata": {},
   "outputs": [],
   "source": [
    "analysis_overview = pd.read_sql_query(\"SELECT globalVid, startTime, stopTime, duration FROM ANALYSIS_DETAILS\", con)"
   ]
  },
  {
   "cell_type": "code",
   "execution_count": 18,
   "id": "2c3b0d92-c9bc-422c-9dfc-423912586c63",
   "metadata": {},
   "outputs": [],
   "source": [
    "mem_transfer_df = pd.read_sql_query(\"SELECT start, end, virtualAddress, migrationCause, bytes, copyKind, srcKind, dstKind FROM CUPTI_ACTIVITY_KIND_MEMCPY ORDER BY start\", con)"
   ]
  },
  {
   "cell_type": "code",
   "execution_count": 19,
   "id": "1fcaca84-b484-41d2-8418-3a74ffd6e246",
   "metadata": {},
   "outputs": [],
   "source": [
    "gpu_page_fault_df = pd.read_sql_query(\"SELECT start, end, address, numberOfPageFaults, faultAccessType FROM CUDA_UM_GPU_PAGE_FAULT_EVENTS ORDER BY start\", con)"
   ]
  },
  {
   "cell_type": "code",
   "execution_count": 10,
   "id": "0d25b19f-af78-4edc-a618-e304edb8d156",
   "metadata": {},
   "outputs": [],
   "source": [
    "# gpu_memory_usage_df = pd.read_sql_query(\"SELECT start, address, bytes, memKind, memoryOperationType, correlationId FROM CUDA_GPU_MEMORY_USAGE_EVENTS\", con)"
   ]
  },
  {
   "cell_type": "code",
   "execution_count": 11,
   "id": "26cf3d4c-e48d-4b97-8ac9-ff97f83fd507",
   "metadata": {},
   "outputs": [],
   "source": [
    "# cpu_page_fault_df = pd.read_sql_query(\"SELECT start, address, originalFaultPc FROM CUDA_UM_CPU_PAGE_FAULT_EVENTS ORDER BY start\", con)"
   ]
  },
  {
   "cell_type": "code",
   "execution_count": 12,
   "id": "3586f8c9-fb70-4d81-af3a-6c5fcf9dc850",
   "metadata": {},
   "outputs": [],
   "source": [
    "# kernel_overview = pd.read_sql_query(\"SELECT start, end, gridX, gridY, gridZ, blockX, blockY, blockZ, registersPerThread, localMemoryTotal, sharedMemoryExecuted FROM CUPTI_ACTIVITY_KIND_KERNEL\", con)"
   ]
  },
  {
   "cell_type": "markdown",
   "id": "1fc9ed45-c14f-42b0-b7c9-25020eaedc46",
   "metadata": {},
   "source": [
    "# Analyze the Trace"
   ]
  },
  {
   "cell_type": "code",
   "execution_count": 20,
   "id": "1f2e1732-635f-440d-9faf-491ea0b5c048",
   "metadata": {},
   "outputs": [],
   "source": [
    "# runtime in seconds\n",
    "runtime = analysis_overview[\"duration\"] / 1e9"
   ]
  },
  {
   "cell_type": "code",
   "execution_count": 21,
   "id": "fdf34a17-022b-458c-b7f5-7bebfd2132b9",
   "metadata": {},
   "outputs": [
    {
     "data": {
      "text/html": [
       "<div>\n",
       "<style scoped>\n",
       "    .dataframe tbody tr th:only-of-type {\n",
       "        vertical-align: middle;\n",
       "    }\n",
       "\n",
       "    .dataframe tbody tr th {\n",
       "        vertical-align: top;\n",
       "    }\n",
       "\n",
       "    .dataframe thead th {\n",
       "        text-align: right;\n",
       "    }\n",
       "</style>\n",
       "<table border=\"1\" class=\"dataframe\">\n",
       "  <thead>\n",
       "    <tr style=\"text-align: right;\">\n",
       "      <th></th>\n",
       "      <th>start</th>\n",
       "      <th>end</th>\n",
       "      <th>virtualAddress</th>\n",
       "      <th>migrationCause</th>\n",
       "      <th>bytes</th>\n",
       "      <th>copyKind</th>\n",
       "      <th>srcKind</th>\n",
       "      <th>dstKind</th>\n",
       "    </tr>\n",
       "  </thead>\n",
       "  <tbody>\n",
       "    <tr>\n",
       "      <th>0</th>\n",
       "      <td>446167008</td>\n",
       "      <td>446170783</td>\n",
       "      <td>140621222313984</td>\n",
       "      <td>2</td>\n",
       "      <td>49152</td>\n",
       "      <td>11</td>\n",
       "      <td>7</td>\n",
       "      <td>7</td>\n",
       "    </tr>\n",
       "    <tr>\n",
       "      <th>1</th>\n",
       "      <td>446170784</td>\n",
       "      <td>446172672</td>\n",
       "      <td>140621222367232</td>\n",
       "      <td>2</td>\n",
       "      <td>12288</td>\n",
       "      <td>11</td>\n",
       "      <td>7</td>\n",
       "      <td>7</td>\n",
       "    </tr>\n",
       "    <tr>\n",
       "      <th>2</th>\n",
       "      <td>446284704</td>\n",
       "      <td>446287199</td>\n",
       "      <td>140621222248448</td>\n",
       "      <td>2</td>\n",
       "      <td>20480</td>\n",
       "      <td>11</td>\n",
       "      <td>7</td>\n",
       "      <td>7</td>\n",
       "    </tr>\n",
       "    <tr>\n",
       "      <th>3</th>\n",
       "      <td>446287200</td>\n",
       "      <td>446289919</td>\n",
       "      <td>140621222273024</td>\n",
       "      <td>2</td>\n",
       "      <td>32768</td>\n",
       "      <td>11</td>\n",
       "      <td>7</td>\n",
       "      <td>7</td>\n",
       "    </tr>\n",
       "    <tr>\n",
       "      <th>4</th>\n",
       "      <td>446289920</td>\n",
       "      <td>446291487</td>\n",
       "      <td>140621222309888</td>\n",
       "      <td>2</td>\n",
       "      <td>4096</td>\n",
       "      <td>11</td>\n",
       "      <td>7</td>\n",
       "      <td>7</td>\n",
       "    </tr>\n",
       "  </tbody>\n",
       "</table>\n",
       "</div>"
      ],
      "text/plain": [
       "       start        end   virtualAddress  migrationCause  bytes  copyKind  \\\n",
       "0  446167008  446170783  140621222313984               2  49152        11   \n",
       "1  446170784  446172672  140621222367232               2  12288        11   \n",
       "2  446284704  446287199  140621222248448               2  20480        11   \n",
       "3  446287200  446289919  140621222273024               2  32768        11   \n",
       "4  446289920  446291487  140621222309888               2   4096        11   \n",
       "\n",
       "   srcKind  dstKind  \n",
       "0        7        7  \n",
       "1        7        7  \n",
       "2        7        7  \n",
       "3        7        7  \n",
       "4        7        7  "
      ]
     },
     "execution_count": 21,
     "metadata": {},
     "output_type": "execute_result"
    }
   ],
   "source": [
    "# migrationCause\n",
    "# 0: Unknown\n",
    "# 1: User (e.g. cudaMemPrefetchAsync)\n",
    "# 2: Coherence (to guarantee data coherence for CPU/GPU)\n",
    "# 3: Prefetch (driver enabled for performance)\n",
    "# 4: Eviction from GPU (full)\n",
    "mem_transfer_df.head()"
   ]
  },
  {
   "cell_type": "code",
   "execution_count": 22,
   "id": "2ae6eeea-94e7-46e7-a571-75a0ce40951c",
   "metadata": {},
   "outputs": [
    {
     "data": {
      "text/html": [
       "<div>\n",
       "<style scoped>\n",
       "    .dataframe tbody tr th:only-of-type {\n",
       "        vertical-align: middle;\n",
       "    }\n",
       "\n",
       "    .dataframe tbody tr th {\n",
       "        vertical-align: top;\n",
       "    }\n",
       "\n",
       "    .dataframe thead th {\n",
       "        text-align: right;\n",
       "    }\n",
       "</style>\n",
       "<table border=\"1\" class=\"dataframe\">\n",
       "  <thead>\n",
       "    <tr style=\"text-align: right;\">\n",
       "      <th></th>\n",
       "      <th>start</th>\n",
       "      <th>end</th>\n",
       "      <th>address</th>\n",
       "      <th>numberOfPageFaults</th>\n",
       "      <th>faultAccessType</th>\n",
       "    </tr>\n",
       "  </thead>\n",
       "  <tbody>\n",
       "    <tr>\n",
       "      <th>0</th>\n",
       "      <td>445847230</td>\n",
       "      <td>446215200</td>\n",
       "      <td>140621222313984</td>\n",
       "      <td>53</td>\n",
       "      <td>1</td>\n",
       "    </tr>\n",
       "    <tr>\n",
       "      <th>1</th>\n",
       "      <td>446217952</td>\n",
       "      <td>446314048</td>\n",
       "      <td>140621222248448</td>\n",
       "      <td>5</td>\n",
       "      <td>1</td>\n",
       "    </tr>\n",
       "    <tr>\n",
       "      <th>2</th>\n",
       "      <td>446315648</td>\n",
       "      <td>446441729</td>\n",
       "      <td>140621222268928</td>\n",
       "      <td>42</td>\n",
       "      <td>1</td>\n",
       "    </tr>\n",
       "    <tr>\n",
       "      <th>3</th>\n",
       "      <td>446443361</td>\n",
       "      <td>446571842</td>\n",
       "      <td>140621222420480</td>\n",
       "      <td>10</td>\n",
       "      <td>1</td>\n",
       "    </tr>\n",
       "    <tr>\n",
       "      <th>4</th>\n",
       "      <td>446574498</td>\n",
       "      <td>446711395</td>\n",
       "      <td>140621155151872</td>\n",
       "      <td>1</td>\n",
       "      <td>2</td>\n",
       "    </tr>\n",
       "  </tbody>\n",
       "</table>\n",
       "</div>"
      ],
      "text/plain": [
       "       start        end          address  numberOfPageFaults  faultAccessType\n",
       "0  445847230  446215200  140621222313984                  53                1\n",
       "1  446217952  446314048  140621222248448                   5                1\n",
       "2  446315648  446441729  140621222268928                  42                1\n",
       "3  446443361  446571842  140621222420480                  10                1\n",
       "4  446574498  446711395  140621155151872                   1                2"
      ]
     },
     "execution_count": 22,
     "metadata": {},
     "output_type": "execute_result"
    }
   ],
   "source": [
    "# faultAccessType\n",
    "# 0: Unknown\n",
    "# 1: Read\n",
    "# 2: Write\n",
    "# 3: Atomic\n",
    "# 4: Prefetch\n",
    "gpu_page_fault_df.head()"
   ]
  },
  {
   "cell_type": "code",
   "execution_count": 69,
   "id": "71ee9d41-f9fc-4814-bcaa-c47338d60fc1",
   "metadata": {},
   "outputs": [],
   "source": [
    "gpu_page_fault_df[\"delta\"] = (gpu_page_fault_df[\"address\"] - gpu_page_fault_df[\"address\"].shift(1)).fillna(0).astype(np.int64)"
   ]
  },
  {
   "cell_type": "code",
   "execution_count": 53,
   "id": "10f45499-5a0a-4ec3-80c9-d59307892cfb",
   "metadata": {},
   "outputs": [],
   "source": [
    "gpu_page_fault_df[\"address\"] = gpu_page_fault_df[\"address\"].astype(np.uint64)"
   ]
  },
  {
   "cell_type": "code",
   "execution_count": 49,
   "id": "85f6696b-a357-4a4f-ad64-889fcd3ffcb8",
   "metadata": {},
   "outputs": [],
   "source": [
    "OUTPUT_FILENAME_DELTA = OUTPUT_DIR + chosen_size + \".delta_buffer\"\n",
    "OUTPUT_FILENAME_ADDRESS = OUTPUT_DIR +  chosen_size + \".address_buffer\" "
   ]
  },
  {
   "cell_type": "code",
   "execution_count": 50,
   "id": "224d57ef-bda7-4d3d-8412-368b3c21f224",
   "metadata": {},
   "outputs": [
    {
     "data": {
      "text/plain": [
       "'../gpu_traces/2DCONV/5000_2500.delta_buffer'"
      ]
     },
     "execution_count": 50,
     "metadata": {},
     "output_type": "execute_result"
    }
   ],
   "source": [
    "OUTPUT_FILENAME_DELTA"
   ]
  },
  {
   "cell_type": "code",
   "execution_count": 66,
   "id": "267b595c-ea5b-449f-a407-aebb084390ee",
   "metadata": {},
   "outputs": [],
   "source": [
    "# writing to buffer as int64\n",
    "f = open(OUTPUT_FILENAME_DELTA, 'wb')\n",
    "for i in range(len(gpu_page_fault_df[\"delta\"])):\n",
    "    val = gpu_page_fault_df[\"delta\"][i]\n",
    "    f.write(val.tobytes())\n",
    "f.close()"
   ]
  },
  {
   "cell_type": "code",
   "execution_count": 67,
   "id": "56054b21-ea80-4211-a9f1-add5dc339a23",
   "metadata": {},
   "outputs": [],
   "source": [
    "# writing to buffer as uint64\n",
    "f = open(OUTPUT_FILENAME_ADDRESS, 'wb')\n",
    "for i in range(len(gpu_page_fault_df[\"address\"])):\n",
    "    val = gpu_page_fault_df[\"address\"][i]\n",
    "    f.write(val.tobytes())\n",
    "f.close()"
   ]
  },
  {
   "cell_type": "code",
   "execution_count": 68,
   "id": "919a3c26-4c3f-4fb2-a478-a8216a44c680",
   "metadata": {},
   "outputs": [
    {
     "data": {
      "text/plain": [
       "0             0\n",
       "1         65536\n",
       "2        -20480\n",
       "3       -151552\n",
       "4      67268608\n",
       "         ...   \n",
       "317      -98304\n",
       "318      -65536\n",
       "319     -139264\n",
       "320      -98304\n",
       "321      -81920\n",
       "Name: delta, Length: 322, dtype: int64"
      ]
     },
     "execution_count": 68,
     "metadata": {},
     "output_type": "execute_result"
    }
   ],
   "source": [
    "gpu_page_fault_df[\"delta\"]"
   ]
  },
  {
   "cell_type": "code",
   "execution_count": null,
   "id": "2a2f5967-4fb3-45f6-877a-ca562ddb9a8d",
   "metadata": {},
   "outputs": [],
   "source": []
  }
 ],
 "metadata": {
  "kernelspec": {
   "display_name": "Python 3 (ipykernel)",
   "language": "python",
   "name": "python3"
  },
  "language_info": {
   "codemirror_mode": {
    "name": "ipython",
    "version": 3
   },
   "file_extension": ".py",
   "mimetype": "text/x-python",
   "name": "python",
   "nbconvert_exporter": "python",
   "pygments_lexer": "ipython3",
   "version": "3.10.4"
  }
 },
 "nbformat": 4,
 "nbformat_minor": 5
}
