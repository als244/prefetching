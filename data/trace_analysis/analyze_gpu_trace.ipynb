{
 "cells": [
  {
   "cell_type": "code",
   "execution_count": 2,
   "id": "531cdb65-777b-439c-905d-452c4a85f657",
   "metadata": {},
   "outputs": [],
   "source": [
    "import sqlite3\n",
    "import pandas as pd\n",
    "import numpy as np\n",
    "import plotly.graph_objects as go"
   ]
  },
  {
   "cell_type": "code",
   "execution_count": 3,
   "id": "73ea680c-ba39-47e4-b37c-1849bf833a54",
   "metadata": {},
   "outputs": [],
   "source": [
    "TRACE_PATH = \"../gpu_traces/\""
   ]
  },
  {
   "cell_type": "markdown",
   "id": "10aa163e-727a-492c-b3c2-392f0f236db4",
   "metadata": {},
   "source": [
    "## Get DB Containing Trace Details"
   ]
  },
  {
   "cell_type": "code",
   "execution_count": 4,
   "id": "459e48c5-f497-45db-bdd0-e5ef588bdefa",
   "metadata": {},
   "outputs": [],
   "source": [
    "BENCHMARK = \"gemm\"\n",
    "BENCHMARK_PATH = TRACE_PATH + BENCHMARK + \"/\""
   ]
  },
  {
   "cell_type": "code",
   "execution_count": 5,
   "id": "b1831e7f-3959-4438-846f-1091d1811317",
   "metadata": {},
   "outputs": [],
   "source": [
    "matrix_sizes = [512, 4096, 32768, 50000, 65536]"
   ]
  },
  {
   "cell_type": "code",
   "execution_count": 6,
   "id": "530adeca-558c-4d97-a303-6f90b73022c3",
   "metadata": {},
   "outputs": [],
   "source": [
    "chosen_size = 32768"
   ]
  },
  {
   "cell_type": "code",
   "execution_count": 7,
   "id": "b09931d3-4140-4674-a966-f19d981a09c6",
   "metadata": {},
   "outputs": [],
   "source": [
    "db_filename = BENCHMARK_PATH + str(chosen_size) + \".sqlite\""
   ]
  },
  {
   "cell_type": "markdown",
   "id": "6230890f-a2c7-4369-a83a-77fadba903d8",
   "metadata": {},
   "source": [
    "# Profiled Using: \n",
    "- ```nsys profile --stats=true --cuda-memory-usage=true --cuda-um-gpu-page-faults=true --cuda-um-cpu-page-faults=true --output=<output_filename> ./<executable_name>```"
   ]
  },
  {
   "cell_type": "markdown",
   "id": "5f0f3d59-7ff2-448d-979b-b576822e3ab8",
   "metadata": {},
   "source": [
    "## Memory Transfer and Page Fault Tables\n",
    "- CUPTI_ACTIVITY_KIND_MEMCPY\n",
    "- CUDA_UM_GPU_PAGE_FAULT_EVENTS\n",
    "- CUDA_GPU_MEMORY_USAGE_EVENTS\n",
    "- CUDA_UM_CPU_PAGE_FAULT_EVENTS"
   ]
  },
  {
   "cell_type": "markdown",
   "id": "44e161bb-c13f-4f04-82a9-c4cfc51fdd7a",
   "metadata": {},
   "source": [
    "### Other Possibly Relevant Tables\n",
    "- ANALYSIS_DETAILS\n",
    "- COMPOSITE_EVENTS\n",
    "- CUPTI_ACTIVITY_KIND_KERNEL\n",
    "- CUPTI_ACTIVITY_KIND_RUNTIME\n",
    "- CUPTI_ACTIVITY_KIND_SYNCHRONIZATION\n",
    "- OSRT_API\n",
    "- OSRT_CALLCHAINS\n",
    "- PROFILER_OVERHEAD\n",
    "- SAMPLING_CALLCHAINS\n",
    "- SCHED_EVENTS\n",
    "- TARGET_INFO_CUDA_STREAM\n",
    "- TARGET_INFO_GPU\n",
    "- TARGET_INFO_SYSTEM_ENV"
   ]
  },
  {
   "cell_type": "code",
   "execution_count": 8,
   "id": "ea27f2d8-a680-423f-ab2f-dc4853b8360f",
   "metadata": {},
   "outputs": [],
   "source": [
    "con = sqlite3.connect(db_filename)"
   ]
  },
  {
   "cell_type": "code",
   "execution_count": 9,
   "id": "85bbd733-fcc5-442e-9912-ce7b0cb4399f",
   "metadata": {},
   "outputs": [],
   "source": [
    "analysis_overview = pd.read_sql_query(\"SELECT globalVid, startTime, stopTime, duration FROM ANALYSIS_DETAILS\", con)"
   ]
  },
  {
   "cell_type": "code",
   "execution_count": 10,
   "id": "2c3b0d92-c9bc-422c-9dfc-423912586c63",
   "metadata": {},
   "outputs": [],
   "source": [
    "mem_transfer_df = pd.read_sql_query(\"SELECT start, end, virtualAddress, migrationCause, bytes, copyKind, srcKind, dstKind FROM CUPTI_ACTIVITY_KIND_MEMCPY ORDER BY start\", con)"
   ]
  },
  {
   "cell_type": "code",
   "execution_count": 11,
   "id": "1fcaca84-b484-41d2-8418-3a74ffd6e246",
   "metadata": {},
   "outputs": [],
   "source": [
    "gpu_page_fault_df = pd.read_sql_query(\"SELECT start, end, address, numberOfPageFaults, faultAccessType FROM CUDA_UM_GPU_PAGE_FAULT_EVENTS ORDER BY start\", con)"
   ]
  },
  {
   "cell_type": "code",
   "execution_count": 12,
   "id": "0d25b19f-af78-4edc-a618-e304edb8d156",
   "metadata": {},
   "outputs": [],
   "source": [
    "# gpu_memory_usage_df = pd.read_sql_query(\"SELECT start, address, bytes, memKind, memoryOperationType, correlationId FROM CUDA_GPU_MEMORY_USAGE_EVENTS\", con)"
   ]
  },
  {
   "cell_type": "code",
   "execution_count": 13,
   "id": "26cf3d4c-e48d-4b97-8ac9-ff97f83fd507",
   "metadata": {},
   "outputs": [],
   "source": [
    "# cpu_page_fault_df = pd.read_sql_query(\"SELECT start, address, originalFaultPc FROM CUDA_UM_CPU_PAGE_FAULT_EVENTS ORDER BY start\", con)"
   ]
  },
  {
   "cell_type": "code",
   "execution_count": 14,
   "id": "3586f8c9-fb70-4d81-af3a-6c5fcf9dc850",
   "metadata": {},
   "outputs": [],
   "source": [
    "# kernel_overview = pd.read_sql_query(\"SELECT start, end, gridX, gridY, gridZ, blockX, blockY, blockZ, registersPerThread, localMemoryTotal, sharedMemoryExecuted FROM CUPTI_ACTIVITY_KIND_KERNEL\", con)"
   ]
  },
  {
   "cell_type": "markdown",
   "id": "1fc9ed45-c14f-42b0-b7c9-25020eaedc46",
   "metadata": {},
   "source": [
    "# Analyze the Trace"
   ]
  },
  {
   "cell_type": "code",
   "execution_count": 15,
   "id": "1f2e1732-635f-440d-9faf-491ea0b5c048",
   "metadata": {},
   "outputs": [],
   "source": [
    "# runtime in seconds\n",
    "runtime = analysis_overview[\"duration\"] / 1e9"
   ]
  },
  {
   "cell_type": "code",
   "execution_count": 18,
   "id": "fdf34a17-022b-458c-b7f5-7bebfd2132b9",
   "metadata": {},
   "outputs": [
    {
     "data": {
      "text/html": [
       "<div>\n",
       "<style scoped>\n",
       "    .dataframe tbody tr th:only-of-type {\n",
       "        vertical-align: middle;\n",
       "    }\n",
       "\n",
       "    .dataframe tbody tr th {\n",
       "        vertical-align: top;\n",
       "    }\n",
       "\n",
       "    .dataframe thead th {\n",
       "        text-align: right;\n",
       "    }\n",
       "</style>\n",
       "<table border=\"1\" class=\"dataframe\">\n",
       "  <thead>\n",
       "    <tr style=\"text-align: right;\">\n",
       "      <th></th>\n",
       "      <th>start</th>\n",
       "      <th>end</th>\n",
       "      <th>virtualAddress</th>\n",
       "      <th>migrationCause</th>\n",
       "      <th>bytes</th>\n",
       "      <th>copyKind</th>\n",
       "      <th>srcKind</th>\n",
       "      <th>dstKind</th>\n",
       "    </tr>\n",
       "  </thead>\n",
       "  <tbody>\n",
       "    <tr>\n",
       "      <th>0</th>\n",
       "      <td>4876800429</td>\n",
       "      <td>4876802603</td>\n",
       "      <td>140656118857728</td>\n",
       "      <td>2</td>\n",
       "      <td>4096</td>\n",
       "      <td>11</td>\n",
       "      <td>7</td>\n",
       "      <td>7</td>\n",
       "    </tr>\n",
       "    <tr>\n",
       "      <th>1</th>\n",
       "      <td>4876802604</td>\n",
       "      <td>4876804460</td>\n",
       "      <td>140656118861824</td>\n",
       "      <td>3</td>\n",
       "      <td>4096</td>\n",
       "      <td>11</td>\n",
       "      <td>7</td>\n",
       "      <td>7</td>\n",
       "    </tr>\n",
       "    <tr>\n",
       "      <th>2</th>\n",
       "      <td>4876804461</td>\n",
       "      <td>4876806507</td>\n",
       "      <td>140656118865920</td>\n",
       "      <td>2</td>\n",
       "      <td>4096</td>\n",
       "      <td>11</td>\n",
       "      <td>7</td>\n",
       "      <td>7</td>\n",
       "    </tr>\n",
       "    <tr>\n",
       "      <th>3</th>\n",
       "      <td>4876806508</td>\n",
       "      <td>4876810284</td>\n",
       "      <td>140656118870016</td>\n",
       "      <td>3</td>\n",
       "      <td>53248</td>\n",
       "      <td>11</td>\n",
       "      <td>7</td>\n",
       "      <td>7</td>\n",
       "    </tr>\n",
       "    <tr>\n",
       "      <th>4</th>\n",
       "      <td>4876810285</td>\n",
       "      <td>4876812012</td>\n",
       "      <td>140656118988800</td>\n",
       "      <td>3</td>\n",
       "      <td>4096</td>\n",
       "      <td>11</td>\n",
       "      <td>7</td>\n",
       "      <td>7</td>\n",
       "    </tr>\n",
       "  </tbody>\n",
       "</table>\n",
       "</div>"
      ],
      "text/plain": [
       "        start         end   virtualAddress  migrationCause  bytes  copyKind  \\\n",
       "0  4876800429  4876802603  140656118857728               2   4096        11   \n",
       "1  4876802604  4876804460  140656118861824               3   4096        11   \n",
       "2  4876804461  4876806507  140656118865920               2   4096        11   \n",
       "3  4876806508  4876810284  140656118870016               3  53248        11   \n",
       "4  4876810285  4876812012  140656118988800               3   4096        11   \n",
       "\n",
       "   srcKind  dstKind  \n",
       "0        7        7  \n",
       "1        7        7  \n",
       "2        7        7  \n",
       "3        7        7  \n",
       "4        7        7  "
      ]
     },
     "execution_count": 18,
     "metadata": {},
     "output_type": "execute_result"
    }
   ],
   "source": [
    "# migrationCause\n",
    "# 0: Unknown\n",
    "# 1: User (e.g. cudaMemPrefetchAsync)\n",
    "# 2: Coherence (to guarantee data coherence for CPU/GPU)\n",
    "# 3: Prefetch (driver enabled for performance)\n",
    "# 4: Eviction from GPU (full)\n",
    "mem_transfer_df.head()"
   ]
  },
  {
   "cell_type": "code",
   "execution_count": 17,
   "id": "2ae6eeea-94e7-46e7-a571-75a0ce40951c",
   "metadata": {},
   "outputs": [
    {
     "data": {
      "text/html": [
       "<div>\n",
       "<style scoped>\n",
       "    .dataframe tbody tr th:only-of-type {\n",
       "        vertical-align: middle;\n",
       "    }\n",
       "\n",
       "    .dataframe tbody tr th {\n",
       "        vertical-align: top;\n",
       "    }\n",
       "\n",
       "    .dataframe thead th {\n",
       "        text-align: right;\n",
       "    }\n",
       "</style>\n",
       "<table border=\"1\" class=\"dataframe\">\n",
       "  <thead>\n",
       "    <tr style=\"text-align: right;\">\n",
       "      <th></th>\n",
       "      <th>start</th>\n",
       "      <th>end</th>\n",
       "      <th>address</th>\n",
       "      <th>numberOfPageFaults</th>\n",
       "      <th>faultAccessType</th>\n",
       "    </tr>\n",
       "  </thead>\n",
       "  <tbody>\n",
       "    <tr>\n",
       "      <th>0</th>\n",
       "      <td>4876422187</td>\n",
       "      <td>4876905901</td>\n",
       "      <td>140656118857728</td>\n",
       "      <td>3</td>\n",
       "      <td>1</td>\n",
       "    </tr>\n",
       "    <tr>\n",
       "      <th>1</th>\n",
       "      <td>4876908973</td>\n",
       "      <td>4877231535</td>\n",
       "      <td>140660413825024</td>\n",
       "      <td>7</td>\n",
       "      <td>1</td>\n",
       "    </tr>\n",
       "    <tr>\n",
       "      <th>2</th>\n",
       "      <td>4877233422</td>\n",
       "      <td>4877321231</td>\n",
       "      <td>140664708792320</td>\n",
       "      <td>31</td>\n",
       "      <td>1</td>\n",
       "    </tr>\n",
       "    <tr>\n",
       "      <th>3</th>\n",
       "      <td>4877322543</td>\n",
       "      <td>4877389935</td>\n",
       "      <td>140660413956096</td>\n",
       "      <td>13</td>\n",
       "      <td>1</td>\n",
       "    </tr>\n",
       "    <tr>\n",
       "      <th>4</th>\n",
       "      <td>4877390383</td>\n",
       "      <td>4877436496</td>\n",
       "      <td>140660414087168</td>\n",
       "      <td>3</td>\n",
       "      <td>1</td>\n",
       "    </tr>\n",
       "  </tbody>\n",
       "</table>\n",
       "</div>"
      ],
      "text/plain": [
       "        start         end          address  numberOfPageFaults  \\\n",
       "0  4876422187  4876905901  140656118857728                   3   \n",
       "1  4876908973  4877231535  140660413825024                   7   \n",
       "2  4877233422  4877321231  140664708792320                  31   \n",
       "3  4877322543  4877389935  140660413956096                  13   \n",
       "4  4877390383  4877436496  140660414087168                   3   \n",
       "\n",
       "   faultAccessType  \n",
       "0                1  \n",
       "1                1  \n",
       "2                1  \n",
       "3                1  \n",
       "4                1  "
      ]
     },
     "execution_count": 17,
     "metadata": {},
     "output_type": "execute_result"
    }
   ],
   "source": [
    "gpu_page_fault_df.head()"
   ]
  },
  {
   "cell_type": "code",
   "execution_count": null,
   "id": "71ee9d41-f9fc-4814-bcaa-c47338d60fc1",
   "metadata": {},
   "outputs": [],
   "source": []
  }
 ],
 "metadata": {
  "kernelspec": {
   "display_name": "Python 3 (ipykernel)",
   "language": "python",
   "name": "python3"
  },
  "language_info": {
   "codemirror_mode": {
    "name": "ipython",
    "version": 3
   },
   "file_extension": ".py",
   "mimetype": "text/x-python",
   "name": "python",
   "nbconvert_exporter": "python",
   "pygments_lexer": "ipython3",
   "version": "3.10.4"
  }
 },
 "nbformat": 4,
 "nbformat_minor": 5
}
